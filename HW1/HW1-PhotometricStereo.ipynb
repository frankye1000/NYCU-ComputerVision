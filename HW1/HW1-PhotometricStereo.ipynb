{
 "cells": [
  {
   "cell_type": "code",
   "execution_count": 1,
   "id": "1c10f57c",
   "metadata": {},
   "outputs": [
    {
     "name": "stdout",
     "output_type": "stream",
     "text": [
      "Jupyter environment detected. Enabling Open3D WebVisualizer.\n",
      "[Open3D INFO] WebRTC GUI backend enabled.\n",
      "[Open3D INFO] WebRTCWindowSystem: HTTP handshake server disabled.\n"
     ]
    }
   ],
   "source": [
    "import cv2\n",
    "import numpy as np\n",
    "import matplotlib.pyplot as plt\n",
    "from scipy.sparse import csr_matrix\n",
    "from scipy.linalg import pinv, norm\n",
    "from sklearn.preprocessing import normalize\n",
    "\n",
    "from HW1 import *"
   ]
  },
  {
   "cell_type": "code",
   "execution_count": null,
   "id": "8eeab9c0",
   "metadata": {},
   "outputs": [],
   "source": []
  },
  {
   "cell_type": "markdown",
   "id": "083c4afc",
   "metadata": {},
   "source": [
    "# 圖片來源種類"
   ]
  },
  {
   "cell_type": "code",
   "execution_count": 2,
   "id": "e3be63a9",
   "metadata": {},
   "outputs": [],
   "source": [
    "source='star' # 'star'"
   ]
  },
  {
   "cell_type": "markdown",
   "id": "0452e3a2",
   "metadata": {},
   "source": [
    "# read LightSource.txt\n",
    "讀取光源"
   ]
  },
  {
   "cell_type": "code",
   "execution_count": 3,
   "id": "53878db5",
   "metadata": {},
   "outputs": [],
   "source": [
    "with open(\"test/{}/LightSource.txt\".format(source),'r') as f:\n",
    "    L = []\n",
    "    for l in f.readlines():\n",
    "        l = l.replace('\\n','').replace('(','').replace(')','').split(' ')[1].split(',')\n",
    "        l = [int(i) for i in l]\n",
    "        L.append(l)\n",
    "\n",
    "# to array        \n",
    "L = np.array(L)\n",
    "# normalize\n",
    "L = normalize(L)"
   ]
  },
  {
   "cell_type": "code",
   "execution_count": null,
   "id": "b0e21fce",
   "metadata": {},
   "outputs": [],
   "source": []
  },
  {
   "cell_type": "markdown",
   "id": "b794efe3",
   "metadata": {},
   "source": [
    "# read images\n",
    "讀取影像"
   ]
  },
  {
   "cell_type": "code",
   "execution_count": 4,
   "id": "09ce0e75",
   "metadata": {},
   "outputs": [],
   "source": [
    "img1 = read_bmp('test/{}/pic1.bmp'.format(source))\n",
    "h = img1.shape[0]\n",
    "w = img1.shape[1]"
   ]
  },
  {
   "cell_type": "code",
   "execution_count": 5,
   "id": "cf96dc29",
   "metadata": {},
   "outputs": [],
   "source": [
    "img1 = read_bmp('test/{}/pic1.bmp'.format(source)).reshape(-1)\n",
    "img2 = read_bmp('test/{}/pic2.bmp'.format(source)).reshape(-1)\n",
    "img3 = read_bmp('test/{}/pic3.bmp'.format(source)).reshape(-1)\n",
    "img4 = read_bmp('test/{}/pic4.bmp'.format(source)).reshape(-1)\n",
    "img5 = read_bmp('test/{}/pic5.bmp'.format(source)).reshape(-1)\n",
    "img6 = read_bmp('test/{}/pic6.bmp'.format(source)).reshape(-1)"
   ]
  },
  {
   "cell_type": "code",
   "execution_count": 6,
   "id": "49d28ae8",
   "metadata": {
    "scrolled": true
   },
   "outputs": [
    {
     "data": {
      "text/plain": [
       "(6, 57600)"
      ]
     },
     "execution_count": 6,
     "metadata": {},
     "output_type": "execute_result"
    }
   ],
   "source": [
    "I = np.vstack((img1,img2,img3,img4,img5,img6))\n",
    "I.shape"
   ]
  },
  {
   "cell_type": "code",
   "execution_count": null,
   "id": "33548f11",
   "metadata": {},
   "outputs": [],
   "source": []
  },
  {
   "cell_type": "markdown",
   "id": "1df86c0e",
   "metadata": {},
   "source": [
    "# KdN\n",
    "利用pesudo-inverse計算KdN"
   ]
  },
  {
   "cell_type": "code",
   "execution_count": 7,
   "id": "d618279d",
   "metadata": {
    "scrolled": true
   },
   "outputs": [],
   "source": [
    "KdN = pinv((L.T@L))@L.T@I\n",
    "KdN = KdN.T        # 需要再轉置一次，畫出來結果才是對的\n",
    "N = normalize(KdN) # 正規化"
   ]
  },
  {
   "cell_type": "code",
   "execution_count": null,
   "id": "efc681ad",
   "metadata": {},
   "outputs": [],
   "source": []
  },
  {
   "cell_type": "markdown",
   "id": "ad9f61ab",
   "metadata": {},
   "source": [
    "# 影像呈現"
   ]
  },
  {
   "cell_type": "code",
   "execution_count": 8,
   "id": "d3be5ccc",
   "metadata": {
    "scrolled": true
   },
   "outputs": [
    {
     "data": {
      "image/png": "[encoded data removed]",
      "text/plain": [
       "<Figure size 432x288 with 1 Axes>"
      ]
     },
     "metadata": {
      "needs_background": "light"
     },
     "output_type": "display_data"
    }
   ],
   "source": [
    "normal_visualization(N)"
   ]
  },
  {
   "cell_type": "code",
   "execution_count": null,
   "id": "0ca5fb96",
   "metadata": {},
   "outputs": [],
   "source": []
  },
  {
   "cell_type": "markdown",
   "id": "d2b7d419",
   "metadata": {},
   "source": [
    "# Mask\n",
    "製作mask判斷使用哪個方向向量"
   ]
  },
  {
   "cell_type": "code",
   "execution_count": 9,
   "id": "32c2fc9a",
   "metadata": {},
   "outputs": [],
   "source": [
    "N_copy = N.reshape((w,w,3))\n",
    "\n",
    "Mask = np.zeros((w,h))\n",
    "for x in range(w):\n",
    "    for y in range(h):\n",
    "        if (N_copy[x,y] == np.array([0,0,0])).all():\n",
    "            Mask[x,y] = 0\n",
    "        else:\n",
    "            Mask[x,y] = 1"
   ]
  },
  {
   "cell_type": "code",
   "execution_count": 10,
   "id": "dd240964",
   "metadata": {
    "scrolled": true
   },
   "outputs": [
    {
     "data": {
      "image/png": "[encoded data removed]",
      "text/plain": [
       "<Figure size 432x288 with 1 Axes>"
      ]
     },
     "metadata": {
      "needs_background": "light"
     },
     "output_type": "display_data"
    }
   ],
   "source": [
    "mask_visualization(Mask)"
   ]
  },
  {
   "cell_type": "code",
   "execution_count": null,
   "id": "8384f7c1",
   "metadata": {},
   "outputs": [],
   "source": []
  },
  {
   "cell_type": "markdown",
   "id": "3787ef43",
   "metadata": {},
   "source": [
    "# Surface Reconstruction"
   ]
  },
  {
   "cell_type": "code",
   "execution_count": 11,
   "id": "e23eb102",
   "metadata": {},
   "outputs": [],
   "source": [
    "s = w * h\n",
    "M = np.zeros((2 * s, s))\n",
    "V = np.zeros((2 * s, 1))\n",
    "\n",
    "# 製作index，紀錄2維時的index位置\n",
    "index = {}\n",
    "c = 0\n",
    "for i in range(w):\n",
    "    for j in range(h):\n",
    "        index[j,i] = c\n",
    "        c+=1"
   ]
  },
  {
   "cell_type": "code",
   "execution_count": 12,
   "id": "5221b685",
   "metadata": {},
   "outputs": [],
   "source": [
    "# 用Mask來判斷向量方向並製作 M & V\n",
    "i_row_pointer = 0\n",
    "j_row_pointer = s\n",
    "\n",
    "\n",
    "for j in range(w):\n",
    "    for i in range(h):\n",
    "        nx = N_copy[i][j][0]\n",
    "        ny = N_copy[i][j][1]\n",
    "        nz = N_copy[i][j][2]  \n",
    "        '''超過圖片範圍就丟棄'''\n",
    "        if i-1>=0 and j-1>=0 and i+1<120 and j+1<120:\n",
    "            '''填表'''\n",
    "            if Mask[i,j+1]>0 and Mask[i-1,j]>0:           # 如果東北方向存在\n",
    "                M[i_row_pointer][index[(i,j+1)]] = 1        # (i,j+1)\n",
    "                M[j_row_pointer][index[(i-1,j)]] = 1        # (i-1,j)\n",
    "                M[i_row_pointer][index[(i,j)]]   = -1       # (i,j)\n",
    "                M[j_row_pointer][index[(i,j)]]   = -1       # (i,j)\n",
    "                V[i_row_pointer] = -nx/nz if nz!=0 else 0 \n",
    "                V[j_row_pointer] = -ny/nz if nz!=0 else 0\n",
    "            elif Mask[i,j-1]>0 and Mask[i-1,j]>0:         # 如果西北方向存在(東不存在)\n",
    "                M[i_row_pointer][index[(i,j-1)]] = 1        # (i,j-1)\n",
    "                M[j_row_pointer][index[(i-1,j)]] = 1        # (i-1,j)\n",
    "                M[i_row_pointer][index[(i,j)]]   = -1       # (i,j)\n",
    "                M[j_row_pointer][index[(i,j)]]   = -1       # (i,j)\n",
    "                V[i_row_pointer] =  nx/nz if nz!=0 else 0 \n",
    "                V[j_row_pointer] = -ny/nz if nz!=0 else 0\n",
    "            elif Mask[i,j+1]>0 and Mask[i+1,j]>0:         # 如果東南方向存在(北不存在)\n",
    "                M[i_row_pointer][index[(i,j+1)]] = 1        # (i,j+1)\n",
    "                M[j_row_pointer][index[(i+1,j)]] = 1        # (i+1,j)\n",
    "                M[i_row_pointer][index[(i,j)]]   = -1       # (i,j)\n",
    "                M[j_row_pointer][index[(i,j)]]   = -1       # (i,j)\n",
    "                V[i_row_pointer] = -nx/nz if nz!=0 else 0 \n",
    "                V[j_row_pointer] =  ny/nz if nz!=0 else 0\n",
    "            elif Mask[i,j-1]>0 and Mask[i+1,j]>0:        # 如果西南方向存在(東、北不存在)\n",
    "                M[i_row_pointer][index[(i,j-1)]] = 1        # (i,j-1)\n",
    "                M[j_row_pointer][index[(i+1,j)]] = 1        # (i+1,j)\n",
    "                M[i_row_pointer][index[(i,j)]]   = -1       # (i,j)\n",
    "                M[j_row_pointer][index[(i,j)]]   = -1       # (i,j)\n",
    "                V[i_row_pointer] = nx/nz if nz!=0 else 0 \n",
    "                V[j_row_pointer] = ny/nz if nz!=0 else 0\n",
    "        i_row_pointer += 1\n",
    "        j_row_pointer += 1"
   ]
  },
  {
   "cell_type": "code",
   "execution_count": null,
   "id": "ea360bd1",
   "metadata": {},
   "outputs": [],
   "source": [
    "# 算出z\n",
    "z = pinv(M.T@M)@M.T@V"
   ]
  },
  {
   "cell_type": "code",
   "execution_count": null,
   "id": "dc6959fe",
   "metadata": {},
   "outputs": [],
   "source": [
    "# reshape z\n",
    "z_r = np.reshape(z,(w,h),order='F')"
   ]
  },
  {
   "cell_type": "code",
   "execution_count": null,
   "id": "ae6c4223",
   "metadata": {},
   "outputs": [],
   "source": [
    "for j in range(w):\n",
    "    for i in range(h):\n",
    "        if Mask[i,j] == 0:\n",
    "            z_r[i,j] = 0"
   ]
  },
  {
   "cell_type": "code",
   "execution_count": null,
   "id": "0a0496b6",
   "metadata": {
    "scrolled": true
   },
   "outputs": [],
   "source": [
    "depth_visualization(z_r)"
   ]
  },
  {
   "cell_type": "markdown",
   "id": "446faefa",
   "metadata": {},
   "source": [
    "# save 3D ply"
   ]
  },
  {
   "cell_type": "code",
   "execution_count": null,
   "id": "c21729a7",
   "metadata": {},
   "outputs": [],
   "source": [
    "image_row = h\n",
    "image_col = w\n",
    "def save_ply(Z,filepath):\n",
    "    Z_map = np.reshape(Z, (image_row,image_col)).copy()\n",
    "    data = np.zeros((image_row*image_col,3),dtype=np.float32)\n",
    "    # let all point float on a base plane \n",
    "    baseline_val = np.min(Z_map)\n",
    "#     baseline_val = np.max(Z_map)\n",
    "#     baseline_val = np.median(Z_map)\n",
    "#     baseline_val = np.mean(Z_map)\n",
    "    Z_map[np.where(Z_map == 0)] = baseline_val\n",
    "    for i in range(image_row):\n",
    "        for j in range(image_col):\n",
    "            idx = i * image_col + j\n",
    "            data[idx][0] = j\n",
    "            data[idx][1] = i\n",
    "            data[idx][2] = Z_map[image_row - 1 - i][j]\n",
    "    # output to ply file\n",
    "    pcd = o3d.geometry.PointCloud()\n",
    "    pcd.points = o3d.utility.Vector3dVector(data)\n",
    "    o3d.io.write_point_cloud(filepath, pcd,write_ascii=True)"
   ]
  },
  {
   "cell_type": "code",
   "execution_count": null,
   "id": "c4fec69b",
   "metadata": {},
   "outputs": [],
   "source": [
    "save_ply(z_r, \"./{}.ply\".foramt(source))"
   ]
  },
  {
   "cell_type": "code",
   "execution_count": null,
   "id": "f3072954",
   "metadata": {},
   "outputs": [],
   "source": [
    "show_ply(\"./{}.ply\".foramt(source))"
   ]
  },
  {
   "cell_type": "code",
   "execution_count": null,
   "id": "19d8a0b1",
   "metadata": {},
   "outputs": [],
   "source": []
  },
  {
   "cell_type": "code",
   "execution_count": null,
   "id": "2f503e0d",
   "metadata": {},
   "outputs": [],
   "source": []
  }
 ],
 "metadata": {
  "kernelspec": {
   "display_name": "Python 3 (ipykernel)",
   "language": "python",
   "name": "python3"
  },
  "language_info": {
   "codemirror_mode": {
    "name": "ipython",
    "version": 3
   },
   "file_extension": ".py",
   "mimetype": "text/x-python",
   "name": "python",
   "nbconvert_exporter": "python",
   "pygments_lexer": "ipython3",
   "version": "3.9.7"
  }
 },
 "nbformat": 4,
 "nbformat_minor": 5
}
