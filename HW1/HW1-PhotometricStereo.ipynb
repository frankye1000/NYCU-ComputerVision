{
 "cells": [
  {
   "cell_type": "code",
   "execution_count": 2,
   "id": "1c10f57c",
   "metadata": {},
   "outputs": [
    {
     "name": "stdout",
     "output_type": "stream",
     "text": [
      "Jupyter environment detected. Enabling Open3D WebVisualizer.\n",
      "[Open3D INFO] WebRTC GUI backend enabled.\n",
      "[Open3D INFO] WebRTCWindowSystem: HTTP handshake server disabled.\n"
     ]
    }
   ],
   "source": [
    "import cv2\n",
    "import numpy as np\n",
    "import matplotlib.pyplot as plt\n",
    "from scipy.sparse import csr_matrix\n",
    "from scipy.linalg import pinv, norm\n",
    "from sklearn.preprocessing import normalize\n",
    "import matplotlib.pyplot as plt\n",
    "\n",
    "from HW1 import *"
   ]
  },
  {
   "cell_type": "code",
   "execution_count": null,
   "id": "8eeab9c0",
   "metadata": {},
   "outputs": [],
   "source": []
  },
  {
   "cell_type": "markdown",
   "id": "083c4afc",
   "metadata": {},
   "source": [
    "# 圖片來源種類"
   ]
  },
  {
   "cell_type": "code",
   "execution_count": 3,
   "id": "e3be63a9",
   "metadata": {},
   "outputs": [],
   "source": [
    "source='venus' # 'star'"
   ]
  },
  {
   "cell_type": "markdown",
   "id": "0452e3a2",
   "metadata": {},
   "source": [
    "# read LightSource.txt\n",
    "讀取光源"
   ]
  },
  {
   "cell_type": "code",
   "execution_count": 4,
   "id": "53878db5",
   "metadata": {},
   "outputs": [],
   "source": [
    "with open(\"test/{}/LightSource.txt\".format(source),'r') as f:\n",
    "    L = []\n",
    "    for l in f.readlines():\n",
    "        l = l.replace('\\n','').replace('(','').replace(')','').split(' ')[1].split(',')\n",
    "        l = [int(i) for i in l]\n",
    "        L.append(l)\n",
    "\n",
    "# to array        \n",
    "L = np.array(L)\n",
    "# normalize\n",
    "L = normalize(L)"
   ]
  },
  {
   "cell_type": "code",
   "execution_count": null,
   "id": "b0e21fce",
   "metadata": {},
   "outputs": [],
   "source": []
  },
  {
   "cell_type": "markdown",
   "id": "b794efe3",
   "metadata": {},
   "source": [
    "# read images\n",
    "讀取影像"
   ]
  },
  {
   "cell_type": "code",
   "execution_count": 5,
   "id": "09ce0e75",
   "metadata": {},
   "outputs": [],
   "source": [
    "img1 = read_bmp('test/{}/pic1.bmp'.format(source))\n",
    "h = img1.shape[0]\n",
    "w = img1.shape[1]"
   ]
  },
  {
   "cell_type": "code",
   "execution_count": 116,
   "id": "4f14d025",
   "metadata": {},
   "outputs": [],
   "source": [
    "# img1 = read_bmp('test/{}/pic1.bmp'.format(source)).reshape(-1)\n",
    "# img2 = read_bmp('test/{}/pic2.bmp'.format(source)).reshape(-1)\n",
    "# img3 = read_bmp('test/{}/pic3.bmp'.format(source)).reshape(-1)\n",
    "# img4 = read_bmp('test/{}/pic4.bmp'.format(source)).reshape(-1)\n",
    "# img5 = read_bmp('test/{}/pic5.bmp'.format(source)).reshape(-1)\n",
    "# img6 = read_bmp('test/{}/pic6.bmp'.format(source)).reshape(-1)"
   ]
  },
  {
   "cell_type": "code",
   "execution_count": 171,
   "id": "c877845c",
   "metadata": {},
   "outputs": [],
   "source": [
    "# 高斯模糊\n",
    "img1_blur = cv2.GaussianBlur(read_bmp('test/{}/pic1.bmp'.format(source)),(3, 15), 0).reshape(-1)\n",
    "img2_blur = cv2.GaussianBlur(read_bmp('test/{}/pic2.bmp'.format(source)),(3, 15), 0).reshape(-1)\n",
    "img3_blur = cv2.GaussianBlur(read_bmp('test/{}/pic3.bmp'.format(source)),(3, 15), 0).reshape(-1)\n",
    "img4_blur = cv2.GaussianBlur(read_bmp('test/{}/pic4.bmp'.format(source)),(3, 15), 0).reshape(-1)\n",
    "img5_blur = cv2.GaussianBlur(read_bmp('test/{}/pic5.bmp'.format(source)),(3, 15), 0).reshape(-1)\n",
    "img6_blur = cv2.GaussianBlur(read_bmp('test/{}/pic6.bmp'.format(source)),(3, 15), 0).reshape(-1)\n",
    "\n",
    "# # create a CLAHE object\n",
    "# clahe = cv2.createCLAHE(clipLimit=2.0, tileGridSize=(8,8))\n",
    "# cl1 = clahe.apply(img)\n",
    "# res = np.hstack((img, cl1))"
   ]
  },
  {
   "cell_type": "code",
   "execution_count": 173,
   "id": "6196dae4",
   "metadata": {},
   "outputs": [
    {
     "data": {
      "image/png": "[encoded data removed]",
      "text/plain": [
       "<Figure size 432x288 with 1 Axes>"
      ]
     },
     "metadata": {
      "needs_background": "light"
     },
     "output_type": "display_data"
    }
   ],
   "source": [
    "temp = cv2.GaussianBlur(read_bmp('test/{}/pic1.bmp'.format(source)),(3, 15), 0)\n",
    "plt.imshow(temp, cmap='gray', vmin=0, vmax=255)\n",
    "plt.show()"
   ]
  },
  {
   "cell_type": "code",
   "execution_count": 174,
   "id": "49d28ae8",
   "metadata": {
    "scrolled": true
   },
   "outputs": [
    {
     "data": {
      "text/plain": [
       "(6, 25440)"
      ]
     },
     "execution_count": 174,
     "metadata": {},
     "output_type": "execute_result"
    }
   ],
   "source": [
    "I = np.vstack((img1_blur,img2_blur,img3_blur,img4_blur,img5_blur,img6_blur))\n",
    "I.shape"
   ]
  },
  {
   "cell_type": "code",
   "execution_count": null,
   "id": "33548f11",
   "metadata": {},
   "outputs": [],
   "source": []
  },
  {
   "cell_type": "markdown",
   "id": "1df86c0e",
   "metadata": {},
   "source": [
    "# KdN\n",
    "利用pesudo-inverse計算KdN"
   ]
  },
  {
   "cell_type": "code",
   "execution_count": 175,
   "id": "d618279d",
   "metadata": {
    "scrolled": true
   },
   "outputs": [],
   "source": [
    "KdN = pinv((L.T@L))@L.T@I\n",
    "KdN = KdN.T        # 需要再轉置一次，畫出來結果才是對的\n",
    "N = normalize(KdN) # 正規化"
   ]
  },
  {
   "cell_type": "code",
   "execution_count": null,
   "id": "efc681ad",
   "metadata": {},
   "outputs": [],
   "source": []
  },
  {
   "cell_type": "markdown",
   "id": "ad9f61ab",
   "metadata": {},
   "source": [
    "# 影像呈現"
   ]
  },
  {
   "cell_type": "code",
   "execution_count": 176,
   "id": "d3be5ccc",
   "metadata": {
    "scrolled": true
   },
   "outputs": [
    {
     "data": {
      "image/png": "[encoded data removed]",
      "text/plain": [
       "<Figure size 432x288 with 1 Axes>"
      ]
     },
     "metadata": {
      "needs_background": "light"
     },
     "output_type": "display_data"
    }
   ],
   "source": [
    "normal_visualization(N)"
   ]
  },
  {
   "cell_type": "code",
   "execution_count": null,
   "id": "0ca5fb96",
   "metadata": {},
   "outputs": [],
   "source": []
  },
  {
   "cell_type": "markdown",
   "id": "d2b7d419",
   "metadata": {},
   "source": [
    "# Mask\n",
    "製作mask判斷使用哪個方向向量"
   ]
  },
  {
   "cell_type": "code",
   "execution_count": 177,
   "id": "32c2fc9a",
   "metadata": {},
   "outputs": [],
   "source": [
    "N_copy = N.reshape((w,h,3))\n",
    "\n",
    "# 只挑出要計算的pixel!!\n",
    "index = {}\n",
    "c = 0\n",
    "Mask = np.zeros((w,h))\n",
    "for x in range(w):\n",
    "    for y in range(h):\n",
    "        if (N_copy[x,y] == np.array([0,0,0])).all():\n",
    "            Mask[x,y] = 0\n",
    "        else:\n",
    "            Mask[x,y] = 1\n",
    "            index[(x,y)] = c\n",
    "            c += 1"
   ]
  },
  {
   "cell_type": "code",
   "execution_count": 178,
   "id": "dd240964",
   "metadata": {
    "scrolled": true
   },
   "outputs": [
    {
     "data": {
      "image/png": "[encoded data removed]",
      "text/plain": [
       "<Figure size 432x288 with 1 Axes>"
      ]
     },
     "metadata": {
      "needs_background": "light"
     },
     "output_type": "display_data"
    }
   ],
   "source": [
    "mask_visualization(Mask)"
   ]
  },
  {
   "cell_type": "code",
   "execution_count": 179,
   "id": "8384f7c1",
   "metadata": {},
   "outputs": [
    {
     "data": {
      "text/plain": [
       "15007"
      ]
     },
     "execution_count": 179,
     "metadata": {},
     "output_type": "execute_result"
    }
   ],
   "source": [
    "# 只需計算!!!!!!!!!\n",
    "len(index)"
   ]
  },
  {
   "cell_type": "markdown",
   "id": "970a49f2",
   "metadata": {},
   "source": [
    "# Surface Reconstruction(新版)"
   ]
  },
  {
   "cell_type": "code",
   "execution_count": 180,
   "id": "9a395522",
   "metadata": {},
   "outputs": [],
   "source": [
    "s = len(index)\n",
    "M = np.zeros((2 * s, s))\n",
    "V = np.zeros((2 * s, 1))"
   ]
  },
  {
   "cell_type": "code",
   "execution_count": 181,
   "id": "9115f395",
   "metadata": {},
   "outputs": [],
   "source": [
    "# 用Mask來判斷向量方向並製作 M & V\n",
    "i_row_pointer = 0\n",
    "j_row_pointer = s\n",
    "for key in index:\n",
    "    i = key[0]\n",
    "    j = key[1]\n",
    "    \n",
    "    nx = N_copy[i][j][0]\n",
    "    ny = N_copy[i][j][1]\n",
    "    nz = N_copy[i][j][2]  \n",
    "    '''超過圖片範圍就丟棄'''\n",
    "    if i-1>=0 and j-1>=0 and i+1<w and j+1<h:\n",
    "        '''填表'''\n",
    "        if Mask[i,j+1]>0 and Mask[i-1,j]>0:           # 如果東北方向存在\n",
    "            M[i_row_pointer][index[(i,j+1)]] = 1        # (i,j+1)\n",
    "            M[j_row_pointer][index[(i-1,j)]] = 1        # (i-1,j)\n",
    "            M[i_row_pointer][index[(i,j)]]   = -1       # (i,j)\n",
    "            M[j_row_pointer][index[(i,j)]]   = -1       # (i,j)\n",
    "            V[i_row_pointer] = -nx/nz if nz!=0 else 0 \n",
    "            V[j_row_pointer] = -ny/nz if nz!=0 else 0\n",
    "        elif Mask[i,j-1]>0 and Mask[i-1,j]>0:         # 如果西北方向存在(東不存在)\n",
    "            M[i_row_pointer][index[(i,j-1)]] = 1        # (i,j-1)\n",
    "            M[j_row_pointer][index[(i-1,j)]] = 1        # (i-1,j)\n",
    "            M[i_row_pointer][index[(i,j)]]   = -1       # (i,j)\n",
    "            M[j_row_pointer][index[(i,j)]]   = -1       # (i,j)\n",
    "            V[i_row_pointer] =  nx/nz if nz!=0 else 0 \n",
    "            V[j_row_pointer] = -ny/nz if nz!=0 else 0\n",
    "        elif Mask[i,j+1]>0 and Mask[i+1,j]>0:         # 如果東南方向存在(北不存在)\n",
    "            M[i_row_pointer][index[(i,j+1)]] = 1        # (i,j+1)\n",
    "            M[j_row_pointer][index[(i+1,j)]] = 1        # (i+1,j)\n",
    "            M[i_row_pointer][index[(i,j)]]   = -1       # (i,j)\n",
    "            M[j_row_pointer][index[(i,j)]]   = -1       # (i,j)\n",
    "            V[i_row_pointer] = -nx/nz if nz!=0 else 0 \n",
    "            V[j_row_pointer] =  ny/nz if nz!=0 else 0\n",
    "        elif Mask[i,j-1]>0 and Mask[i+1,j]>0:        # 如果西南方向存在(東、北不存在)\n",
    "            M[i_row_pointer][index[(i,j-1)]] = 1        # (i,j-1)\n",
    "            M[j_row_pointer][index[(i+1,j)]] = 1        # (i+1,j)\n",
    "            M[i_row_pointer][index[(i,j)]]   = -1       # (i,j)\n",
    "            M[j_row_pointer][index[(i,j)]]   = -1       # (i,j)\n",
    "            V[i_row_pointer] = nx/nz if nz!=0 else 0 \n",
    "            V[j_row_pointer] = ny/nz if nz!=0 else 0\n",
    "    i_row_pointer += 1\n",
    "    j_row_pointer += 1"
   ]
  },
  {
   "cell_type": "code",
   "execution_count": 182,
   "id": "93ad2267",
   "metadata": {},
   "outputs": [],
   "source": [
    "# 算出z\n",
    "z = pinv(M.T@M)@M.T@V"
   ]
  },
  {
   "cell_type": "code",
   "execution_count": 183,
   "id": "833c02c3",
   "metadata": {},
   "outputs": [
    {
     "data": {
      "text/plain": [
       "(15007, 1)"
      ]
     },
     "execution_count": 183,
     "metadata": {},
     "output_type": "execute_result"
    }
   ],
   "source": [
    "z.shape"
   ]
  },
  {
   "cell_type": "code",
   "execution_count": 184,
   "id": "b174fec8",
   "metadata": {},
   "outputs": [
    {
     "name": "stdout",
     "output_type": "stream",
     "text": [
      "最小值為： -131.55030387904043\n",
      "小四分位數為 Q1： -4.891313840012706\n",
      "中位數為 Q2： 0.015909772664645692\n",
      "大四分位數為 Q3： 5.202675628859962\n",
      "最大值為： 53.50034421840978\n"
     ]
    }
   ],
   "source": [
    "Q1 = np.quantile(z, q=0.25)\n",
    "Q3 = np.quantile(z, q=0.75)\n",
    "print('最小值為：',np.quantile(z, q=0))\n",
    "print('小四分位數為 Q1：', Q1)\n",
    "print('中位數為 Q2：', np.quantile(z, q=0.5))\n",
    "print('大四分位數為 Q3：', Q3)\n",
    "print('最大值為：', np.quantile(z, q=1))\n",
    "\n",
    "# 使用IQR(Inter Quantile Range)計算上下邊界值\n",
    "IQR = Q3 - Q1\n",
    "lowerbound = Q1 - 1.5*IQR\n",
    "upperbound = Q3 + 1.5*IQR"
   ]
  },
  {
   "cell_type": "code",
   "execution_count": 185,
   "id": "4ff84c55",
   "metadata": {},
   "outputs": [],
   "source": [
    "ZM = np.zeros((w,h))\n",
    "d = 0\n",
    "for key in index:\n",
    "    if z[d][0]>lowerbound and z[d][0]<upperbound:   # 如果在上下邊界值才採用\n",
    "        ZM[key] = z[d][0]\n",
    "    d += 1"
   ]
  },
  {
   "cell_type": "code",
   "execution_count": 186,
   "id": "a57883c5",
   "metadata": {},
   "outputs": [],
   "source": [
    "# reshape z\n",
    "z_r = np.reshape(ZM,(w,h))"
   ]
  },
  {
   "cell_type": "code",
   "execution_count": 187,
   "id": "668ddff6",
   "metadata": {},
   "outputs": [
    {
     "data": {
      "image/png": "[encoded data removed]",
      "text/plain": [
       "<Figure size 432x288 with 2 Axes>"
      ]
     },
     "metadata": {
      "needs_background": "light"
     },
     "output_type": "display_data"
    }
   ],
   "source": [
    "depth_visualization(z_r)"
   ]
  },
  {
   "cell_type": "code",
   "execution_count": null,
   "id": "7a3fab54",
   "metadata": {},
   "outputs": [],
   "source": []
  },
  {
   "cell_type": "markdown",
   "id": "3787ef43",
   "metadata": {},
   "source": [
    "# Surface Reconstruction(舊版)"
   ]
  },
  {
   "cell_type": "raw",
   "id": "39654918",
   "metadata": {},
   "source": [
    "s = w * h\n",
    "M = np.zeros((2 * s, s))\n",
    "V = np.zeros((2 * s, 1))\n",
    "\n",
    "# 製作index，紀錄2維時的index位置\n",
    "index = {}\n",
    "c = 0\n",
    "for i in range(w):\n",
    "    for j in range(h):\n",
    "        index[j,i] = c\n",
    "        c+=1\n",
    "        \n",
    "        \n",
    "# 用Mask來判斷向量方向並製作 M & V\n",
    "i_row_pointer = 0\n",
    "j_row_pointer = s\n",
    "\n",
    "\n",
    "for j in range(w):\n",
    "    for i in range(h):\n",
    "        nx = N_copy[i][j][0]\n",
    "        ny = N_copy[i][j][1]\n",
    "        nz = N_copy[i][j][2]  \n",
    "        '''超過圖片範圍就丟棄'''\n",
    "        if i-1>=0 and j-1>=0 and i+1<120 and j+1<120:\n",
    "            '''填表'''\n",
    "            if Mask[i,j+1]>0 and Mask[i-1,j]>0:           # 如果東北方向存在\n",
    "                M[i_row_pointer][index[(i,j+1)]] = 1        # (i,j+1)\n",
    "                M[j_row_pointer][index[(i-1,j)]] = 1        # (i-1,j)\n",
    "                M[i_row_pointer][index[(i,j)]]   = -1       # (i,j)\n",
    "                M[j_row_pointer][index[(i,j)]]   = -1       # (i,j)\n",
    "                V[i_row_pointer] = -nx/nz if nz!=0 else 0 \n",
    "                V[j_row_pointer] = -ny/nz if nz!=0 else 0\n",
    "            elif Mask[i,j-1]>0 and Mask[i-1,j]>0:         # 如果西北方向存在(東不存在)\n",
    "                M[i_row_pointer][index[(i,j-1)]] = 1        # (i,j-1)\n",
    "                M[j_row_pointer][index[(i-1,j)]] = 1        # (i-1,j)\n",
    "                M[i_row_pointer][index[(i,j)]]   = -1       # (i,j)\n",
    "                M[j_row_pointer][index[(i,j)]]   = -1       # (i,j)\n",
    "                V[i_row_pointer] =  nx/nz if nz!=0 else 0 \n",
    "                V[j_row_pointer] = -ny/nz if nz!=0 else 0\n",
    "            elif Mask[i,j+1]>0 and Mask[i+1,j]>0:         # 如果東南方向存在(北不存在)\n",
    "                M[i_row_pointer][index[(i,j+1)]] = 1        # (i,j+1)\n",
    "                M[j_row_pointer][index[(i+1,j)]] = 1        # (i+1,j)\n",
    "                M[i_row_pointer][index[(i,j)]]   = -1       # (i,j)\n",
    "                M[j_row_pointer][index[(i,j)]]   = -1       # (i,j)\n",
    "                V[i_row_pointer] = -nx/nz if nz!=0 else 0 \n",
    "                V[j_row_pointer] =  ny/nz if nz!=0 else 0\n",
    "            elif Mask[i,j-1]>0 and Mask[i+1,j]>0:        # 如果西南方向存在(東、北不存在)\n",
    "                M[i_row_pointer][index[(i,j-1)]] = 1        # (i,j-1)\n",
    "                M[j_row_pointer][index[(i+1,j)]] = 1        # (i+1,j)\n",
    "                M[i_row_pointer][index[(i,j)]]   = -1       # (i,j)\n",
    "                M[j_row_pointer][index[(i,j)]]   = -1       # (i,j)\n",
    "                V[i_row_pointer] = nx/nz if nz!=0 else 0 \n",
    "                V[j_row_pointer] = ny/nz if nz!=0 else 0\n",
    "        i_row_pointer += 1\n",
    "        j_row_pointer += 1\n",
    "        \n",
    "        \n",
    "# 算出z\n",
    "z = pinv(M.T@M)@M.T@V\n",
    "\n",
    "# reshape z\n",
    "z_r = np.reshape(z,(w,h),order='F')\n",
    "\n",
    "for j in range(w):\n",
    "    for i in range(h):\n",
    "        if Mask[i,j] == 0:\n",
    "            z_r[i,j] = 0\n",
    "            \n",
    "depth_visualization(z_r)"
   ]
  },
  {
   "cell_type": "raw",
   "id": "d8dc1e03",
   "metadata": {},
   "source": []
  },
  {
   "cell_type": "markdown",
   "id": "e0260bba",
   "metadata": {},
   "source": [
    "# save 3D ply"
   ]
  },
  {
   "cell_type": "code",
   "execution_count": 188,
   "id": "6394bbcc",
   "metadata": {},
   "outputs": [],
   "source": [
    "image_row = h\n",
    "image_col = w\n",
    "def save_ply(Z,filepath):\n",
    "    Z_map = np.reshape(Z, (image_row,image_col)).copy()\n",
    "    data = np.zeros((image_row*image_col,3),dtype=np.float32)\n",
    "    # let all point float on a base plane \n",
    "    baseline_val = np.min(Z_map)\n",
    "#     baseline_val = np.max(Z_map)\n",
    "#     baseline_val = np.median(Z_map)\n",
    "#     baseline_val = np.mean(Z_map)\n",
    "    Z_map[np.where(Z_map == 0)] = baseline_val\n",
    "    for i in range(image_row):\n",
    "        for j in range(image_col):\n",
    "            idx = i * image_col + j\n",
    "            data[idx][0] = j\n",
    "            data[idx][1] = i\n",
    "            data[idx][2] = Z_map[image_row - 1 - i][j]\n",
    "    # output to ply file\n",
    "    pcd = o3d.geometry.PointCloud()\n",
    "    pcd.points = o3d.utility.Vector3dVector(data)\n",
    "    o3d.io.write_point_cloud(filepath, pcd,write_ascii=True)"
   ]
  },
  {
   "cell_type": "code",
   "execution_count": 189,
   "id": "c4fec69b",
   "metadata": {},
   "outputs": [],
   "source": [
    "save_ply(z_r, \"./{}.ply\".format(source))"
   ]
  },
  {
   "cell_type": "code",
   "execution_count": 190,
   "id": "f3072954",
   "metadata": {},
   "outputs": [],
   "source": [
    "show_ply(\"./{}.ply\".format(source))"
   ]
  },
  {
   "cell_type": "code",
   "execution_count": null,
   "id": "19d8a0b1",
   "metadata": {},
   "outputs": [],
   "source": []
  },
  {
   "cell_type": "code",
   "execution_count": null,
   "id": "d20c7370",
   "metadata": {},
   "outputs": [],
   "source": []
  }
 ],
 "metadata": {
  "kernelspec": {
   "display_name": "Python 3 (ipykernel)",
   "language": "python",
   "name": "python3"
  },
  "language_info": {
   "codemirror_mode": {
    "name": "ipython",
    "version": 3
   },
   "file_extension": ".py",
   "mimetype": "text/x-python",
   "name": "python",
   "nbconvert_exporter": "python",
   "pygments_lexer": "ipython3",
   "version": "3.9.7"
  }
 },
 "nbformat": 4,
 "nbformat_minor": 5
}
