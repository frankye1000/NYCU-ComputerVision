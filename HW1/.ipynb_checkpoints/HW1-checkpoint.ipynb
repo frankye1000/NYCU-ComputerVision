{
 "cells": [
  {
   "cell_type": "code",
   "execution_count": 1,
   "id": "5ae7586b",
   "metadata": {},
   "outputs": [],
   "source": [
    "import cv2\n",
    "import numpy as np\n",
    "import matplotlib.pyplot as plt\n",
    "from numpy.linalg import pinv, norm"
   ]
  },
  {
   "cell_type": "markdown",
   "id": "6d76d818",
   "metadata": {},
   "source": [
    "# read LightSource.txt"
   ]
  },
  {
   "cell_type": "code",
   "execution_count": 2,
   "id": "6396912d",
   "metadata": {},
   "outputs": [],
   "source": [
    "with open(\"test/bunny/LightSource.txt\",'r') as f:\n",
    "    L = []\n",
    "    for l in f.readlines():\n",
    "        l = l.replace('\\n','').replace('(','').replace(')','').split(' ')[1].split(',')\n",
    "        l = [int(i) for i in l]\n",
    "        L.append(l)\n",
    "\n",
    "# to array        \n",
    "L = np.array(L)"
   ]
  },
  {
   "cell_type": "code",
   "execution_count": 3,
   "id": "ddcc51e3",
   "metadata": {},
   "outputs": [
    {
     "data": {
      "text/plain": [
       "array([[ 238,  235, 2360],\n",
       "       [ 298,   65, 2480],\n",
       "       [-202,  225, 2240],\n",
       "       [-252,  115, 2310],\n",
       "       [  18,   45, 2270],\n",
       "       [ -22,  295, 2230]])"
      ]
     },
     "execution_count": 3,
     "metadata": {},
     "output_type": "execute_result"
    }
   ],
   "source": [
    "L"
   ]
  },
  {
   "cell_type": "markdown",
   "id": "676f7a92",
   "metadata": {},
   "source": [
    "# read images"
   ]
  },
  {
   "cell_type": "code",
   "execution_count": 4,
   "id": "d78324b5",
   "metadata": {},
   "outputs": [],
   "source": [
    "img1 = cv2.imread('test/bunny/pic1.bmp', 0).reshape(-1)  #0:cv2.IMREAD_GRAYSCALE\n",
    "img2 = cv2.imread('test/bunny/pic2.bmp', 0).reshape(-1) #0:cv2.IMREAD_GRAYSCALE\n",
    "img3 = cv2.imread('test/bunny/pic3.bmp', 0).reshape(-1) #0:cv2.IMREAD_GRAYSCALE\n",
    "img4 = cv2.imread('test/bunny/pic4.bmp', 0).reshape(-1) #0:cv2.IMREAD_GRAYSCALE\n",
    "img5 = cv2.imread('test/bunny/pic5.bmp', 0).reshape(-1) #0:cv2.IMREAD_GRAYSCALE\n",
    "img6 = cv2.imread('test/bunny/pic6.bmp', 0).reshape(-1) #0:cv2.IMREAD_GRAYSCALE"
   ]
  },
  {
   "cell_type": "code",
   "execution_count": 5,
   "id": "508e4e3b",
   "metadata": {},
   "outputs": [
    {
     "data": {
      "text/plain": [
       "(6, 14400)"
      ]
     },
     "execution_count": 5,
     "metadata": {},
     "output_type": "execute_result"
    }
   ],
   "source": [
    "I = np.vstack((img1,img2,img3,img4,img5,img6))\n",
    "I.shape"
   ]
  },
  {
   "cell_type": "markdown",
   "id": "b77cb74b",
   "metadata": {},
   "source": [
    "# KdN\n",
    "https://stackoverflow.com/questions/49357417/why-is-numpy-linalg-pinv-preferred-over-numpy-linalg-inv-for-creating-invers"
   ]
  },
  {
   "cell_type": "code",
   "execution_count": 14,
   "id": "5b948677",
   "metadata": {},
   "outputs": [
    {
     "data": {
      "text/plain": [
       "(3, 14400)"
      ]
     },
     "execution_count": 14,
     "metadata": {},
     "output_type": "execute_result"
    }
   ],
   "source": [
    "KdN = pinv((L.T@L))@L.T@I\n",
    "KdN.shape"
   ]
  },
  {
   "cell_type": "code",
   "execution_count": 15,
   "id": "0a814c70",
   "metadata": {},
   "outputs": [
    {
     "data": {
      "text/plain": [
       "9.271731812107369"
      ]
     },
     "execution_count": 15,
     "metadata": {},
     "output_type": "execute_result"
    }
   ],
   "source": [
    "norm_KdN = norm(KdN)\n",
    "norm_KdN"
   ]
  },
  {
   "cell_type": "code",
   "execution_count": 16,
   "id": "2d2aa5b8",
   "metadata": {},
   "outputs": [],
   "source": [
    "N = KdN/norm_KdN"
   ]
  },
  {
   "cell_type": "code",
   "execution_count": 18,
   "id": "4300dec3",
   "metadata": {},
   "outputs": [
    {
     "data": {
      "text/plain": [
       "(3, 14400)"
      ]
     },
     "execution_count": 18,
     "metadata": {},
     "output_type": "execute_result"
    }
   ],
   "source": [
    "N.shape"
   ]
  },
  {
   "cell_type": "code",
   "execution_count": 19,
   "id": "3fa9f095",
   "metadata": {},
   "outputs": [],
   "source": [
    "from HW1 import normal_visualization"
   ]
  },
  {
   "cell_type": "code",
   "execution_count": 20,
   "id": "23cef5a4",
   "metadata": {},
   "outputs": [
    {
     "data": {
      "image/png": "[encoded data removed]",
      "text/plain": [
       "<Figure size 432x288 with 1 Axes>"
      ]
     },
     "metadata": {
      "needs_background": "light"
     },
     "output_type": "display_data"
    }
   ],
   "source": [
    "normal_visualization(N)"
   ]
  },
  {
   "cell_type": "markdown",
   "id": "65a171c8",
   "metadata": {},
   "source": []
  },
  {
   "cell_type": "code",
   "execution_count": null,
   "id": "c6df4176",
   "metadata": {},
   "outputs": [],
   "source": []
  },
  {
   "cell_type": "code",
   "execution_count": null,
   "id": "bddd3877",
   "metadata": {},
   "outputs": [],
   "source": []
  },
  {
   "cell_type": "code",
   "execution_count": null,
   "id": "43278dea",
   "metadata": {},
   "outputs": [],
   "source": []
  }
 ],
 "metadata": {
  "kernelspec": {
   "display_name": "Python 3",
   "language": "python",
   "name": "python3"
  },
  "language_info": {
   "codemirror_mode": {
    "name": "ipython",
    "version": 3
   },
   "file_extension": ".py",
   "mimetype": "text/x-python",
   "name": "python",
   "nbconvert_exporter": "python",
   "pygments_lexer": "ipython3",
   "version": "3.8.8"
  }
 },
 "nbformat": 4,
 "nbformat_minor": 5
}
