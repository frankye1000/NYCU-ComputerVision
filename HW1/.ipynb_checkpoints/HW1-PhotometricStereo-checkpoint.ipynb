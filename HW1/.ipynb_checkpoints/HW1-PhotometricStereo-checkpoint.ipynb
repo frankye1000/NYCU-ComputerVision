{
 "cells": [
  {
   "cell_type": "code",
   "execution_count": 1,
   "id": "1c10f57c",
   "metadata": {},
   "outputs": [
    {
     "name": "stdout",
     "output_type": "stream",
     "text": [
      "Jupyter environment detected. Enabling Open3D WebVisualizer.\n",
      "[Open3D INFO] WebRTC GUI backend enabled.\n",
      "[Open3D INFO] WebRTCWindowSystem: HTTP handshake server disabled.\n"
     ]
    }
   ],
   "source": [
    "import cv2\n",
    "import numpy as np\n",
    "import matplotlib.pyplot as plt\n",
    "from numpy.linalg import pinv, norm\n",
    "from sklearn.preprocessing import normalize\n",
    "\n",
    "from HW1 import normal_visualization"
   ]
  },
  {
   "cell_type": "markdown",
   "id": "d530dfa1",
   "metadata": {},
   "source": [
    "# 圖片來源"
   ]
  },
  {
   "cell_type": "code",
   "execution_count": 2,
   "id": "bc2847ab",
   "metadata": {},
   "outputs": [],
   "source": [
    "source='star'"
   ]
  },
  {
   "cell_type": "markdown",
   "id": "0452e3a2",
   "metadata": {},
   "source": [
    "# read LightSource.txt\n",
    "讀取光源"
   ]
  },
  {
   "cell_type": "code",
   "execution_count": 3,
   "id": "53878db5",
   "metadata": {},
   "outputs": [],
   "source": [
    "with open(\"test/{}/LightSource.txt\".format(source),'r') as f:\n",
    "    L = []\n",
    "    for l in f.readlines():\n",
    "        l = l.replace('\\n','').replace('(','').replace(')','').split(' ')[1].split(',')\n",
    "        l = [int(i) for i in l]\n",
    "        L.append(l)\n",
    "\n",
    "# to array        \n",
    "L = np.array(L)"
   ]
  },
  {
   "cell_type": "code",
   "execution_count": 4,
   "id": "b0e21fce",
   "metadata": {},
   "outputs": [
    {
     "data": {
      "text/plain": [
       "array([[  323,    35,   113],\n",
       "       [  531,  -442,   435],\n",
       "       [   52,  -115,   121],\n",
       "       [-1012,  -744,   742],\n",
       "       [ -245,    54,   125],\n",
       "       [ -342, -2850,  1071]])"
      ]
     },
     "execution_count": 4,
     "metadata": {},
     "output_type": "execute_result"
    }
   ],
   "source": [
    "L"
   ]
  },
  {
   "cell_type": "markdown",
   "id": "b794efe3",
   "metadata": {},
   "source": [
    "# read images\n",
    "讀取影像"
   ]
  },
  {
   "cell_type": "code",
   "execution_count": 5,
   "id": "3bef8dc3",
   "metadata": {},
   "outputs": [],
   "source": [
    "# 影像列、行長度\n",
    "img1 = cv2.imread('test/{}/pic1.bmp'.format(source))\n",
    "image_row = img1.shape[0]\n",
    "image_col = img1.shape[1]"
   ]
  },
  {
   "cell_type": "code",
   "execution_count": 6,
   "id": "cf96dc29",
   "metadata": {},
   "outputs": [],
   "source": [
    "img1 = cv2.imread('test/{}/pic1.bmp'.format(source), 0).reshape(-1)  #0:cv2.IMREAD_GRAYSCALE\n",
    "img2 = cv2.imread('test/{}/pic2.bmp'.format(source), 0).reshape(-1) #0:cv2.IMREAD_GRAYSCALE\n",
    "img3 = cv2.imread('test/{}/pic3.bmp'.format(source), 0).reshape(-1) #0:cv2.IMREAD_GRAYSCALE\n",
    "img4 = cv2.imread('test/{}/pic4.bmp'.format(source), 0).reshape(-1) #0:cv2.IMREAD_GRAYSCALE\n",
    "img5 = cv2.imread('test/{}/pic5.bmp'.format(source), 0).reshape(-1) #0:cv2.IMREAD_GRAYSCALE\n",
    "img6 = cv2.imread('test/{}/pic6.bmp'.format(source), 0).reshape(-1) #0:cv2.IMREAD_GRAYSCALE"
   ]
  },
  {
   "cell_type": "code",
   "execution_count": 7,
   "id": "49d28ae8",
   "metadata": {},
   "outputs": [
    {
     "data": {
      "text/plain": [
       "(6, 57600)"
      ]
     },
     "execution_count": 7,
     "metadata": {},
     "output_type": "execute_result"
    }
   ],
   "source": [
    "I = np.vstack((img1,img2,img3,img4,img5,img6))\n",
    "I.shape"
   ]
  },
  {
   "cell_type": "markdown",
   "id": "1df86c0e",
   "metadata": {},
   "source": [
    "# KdN\n",
    "利用pesudo-inverse計算KdN\n",
    "\n",
    "\n",
    "https://stackoverflow.com/questions/49357417/why-is-numpy-linalg-pinv-preferred-over-numpy-linalg-inv-for-creating-invers"
   ]
  },
  {
   "cell_type": "code",
   "execution_count": 8,
   "id": "d618279d",
   "metadata": {
    "scrolled": true
   },
   "outputs": [],
   "source": [
    "KdN = pinv((L.T@L))@L.T@I\n",
    "KdN = KdN.T  # 需要再轉置一次，畫出來結果才是對的"
   ]
  },
  {
   "cell_type": "code",
   "execution_count": 9,
   "id": "274e104a",
   "metadata": {},
   "outputs": [],
   "source": [
    "# 正規化\n",
    "N = normalize(KdN, norm=\"l1\")"
   ]
  },
  {
   "cell_type": "markdown",
   "id": "4f5e076a",
   "metadata": {},
   "source": [
    "# 影像呈現"
   ]
  },
  {
   "cell_type": "code",
   "execution_count": 10,
   "id": "d3be5ccc",
   "metadata": {},
   "outputs": [
    {
     "data": {
      "image/png": "[encoded data removed]",
      "text/plain": [
       "<Figure size 432x288 with 1 Axes>"
      ]
     },
     "metadata": {
      "needs_background": "light"
     },
     "output_type": "display_data"
    }
   ],
   "source": [
    "normal_visualization(N,image_row,image_col)"
   ]
  },
  {
   "cell_type": "markdown",
   "id": "c2bc0445",
   "metadata": {},
   "source": []
  },
  {
   "cell_type": "code",
   "execution_count": null,
   "id": "47c9aaf1",
   "metadata": {},
   "outputs": [],
   "source": []
  },
  {
   "cell_type": "code",
   "execution_count": null,
   "id": "c69a6b7e",
   "metadata": {},
   "outputs": [],
   "source": []
  }
 ],
 "metadata": {
  "kernelspec": {
   "display_name": "Python 3",
   "language": "python",
   "name": "python3"
  },
  "language_info": {
   "codemirror_mode": {
    "name": "ipython",
    "version": 3
   },
   "file_extension": ".py",
   "mimetype": "text/x-python",
   "name": "python",
   "nbconvert_exporter": "python",
   "pygments_lexer": "ipython3",
   "version": "3.8.8"
  }
 },
 "nbformat": 4,
 "nbformat_minor": 5
}
