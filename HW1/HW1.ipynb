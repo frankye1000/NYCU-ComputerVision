{
 "cells": [
  {
   "cell_type": "code",
   "execution_count": 1,
   "id": "e81c8f22",
   "metadata": {},
   "outputs": [],
   "source": [
    "import cv2\n",
    "import numpy as np\n",
    "import matplotlib.pyplot as plt\n",
    "from numpy.linalg import pinv, norm"
   ]
  },
  {
   "cell_type": "markdown",
   "id": "43c4589e",
   "metadata": {},
   "source": [
    "# data source"
   ]
  },
  {
   "cell_type": "code",
   "execution_count": 2,
   "id": "8a1caebd",
   "metadata": {},
   "outputs": [],
   "source": [
    "source = \"star\""
   ]
  },
  {
   "cell_type": "markdown",
   "id": "87516e4f",
   "metadata": {},
   "source": [
    "# read LightSource.txt"
   ]
  },
  {
   "cell_type": "code",
   "execution_count": 3,
   "id": "d4fc5cef",
   "metadata": {},
   "outputs": [],
   "source": [
    "with open(\"test/{}/LightSource.txt\".format(source),'r') as f:\n",
    "    L = []\n",
    "    for l in f.readlines():\n",
    "        l = l.replace('\\n','').replace('(','').replace(')','').split(' ')[1].split(',')\n",
    "        l = [int(i) for i in l]\n",
    "        L.append(l)\n",
    "\n",
    "# to array        \n",
    "L = np.array(L)"
   ]
  },
  {
   "cell_type": "code",
   "execution_count": 4,
   "id": "2b62ae6a",
   "metadata": {},
   "outputs": [
    {
     "data": {
      "text/plain": [
       "array([[  323,    35,   113],\n",
       "       [  531,  -442,   435],\n",
       "       [   52,  -115,   121],\n",
       "       [-1012,  -744,   742],\n",
       "       [ -245,    54,   125],\n",
       "       [ -342, -2850,  1071]])"
      ]
     },
     "execution_count": 4,
     "metadata": {},
     "output_type": "execute_result"
    }
   ],
   "source": [
    "L"
   ]
  },
  {
   "cell_type": "markdown",
   "id": "9c730912",
   "metadata": {},
   "source": [
    "# read images"
   ]
  },
  {
   "cell_type": "code",
   "execution_count": 17,
   "id": "14151d6e",
   "metadata": {},
   "outputs": [],
   "source": [
    "img1 = cv2.imread('test/{}/pic1.bmp'.format(source), 0)\n",
    "img2 = cv2.imread('test/{}/pic2.bmp'.format(source), 0)\n",
    "img3 = cv2.imread('test/{}/pic3.bmp'.format(source), 0)\n",
    "img4 = cv2.imread('test/{}/pic4.bmp'.format(source), 0)\n",
    "img5 = cv2.imread('test/{}/pic5.bmp'.format(source), 0)\n",
    "img6 = cv2.imread('test/{}/pic6.bmp'.format(source), 0)"
   ]
  },
  {
   "cell_type": "code",
   "execution_count": 25,
   "id": "0e2f038d",
   "metadata": {},
   "outputs": [
    {
     "data": {
      "text/plain": [
       "(57600,)"
      ]
     },
     "execution_count": 25,
     "metadata": {},
     "output_type": "execute_result"
    }
   ],
   "source": [
    "img1.reshape(-1).shape"
   ]
  },
  {
   "cell_type": "code",
   "execution_count": 16,
   "id": "cde15e7e",
   "metadata": {},
   "outputs": [
    {
     "ename": "ValueError",
     "evalue": "all the input array dimensions for the concatenation axis must match exactly, but along dimension 1, the array at index 0 has size 57600 and the array at index 1 has size 240",
     "output_type": "error",
     "traceback": [
      "\u001b[1;31m---------------------------------------------------------------------------\u001b[0m",
      "\u001b[1;31mValueError\u001b[0m                                Traceback (most recent call last)",
      "\u001b[1;32m~\\AppData\\Local\\Temp/ipykernel_15948/4091645199.py\u001b[0m in \u001b[0;36m<module>\u001b[1;34m\u001b[0m\n\u001b[1;32m----> 1\u001b[1;33m \u001b[0mI\u001b[0m \u001b[1;33m=\u001b[0m \u001b[0mnp\u001b[0m\u001b[1;33m.\u001b[0m\u001b[0mvstack\u001b[0m\u001b[1;33m(\u001b[0m\u001b[1;33m(\u001b[0m\u001b[0mimg1\u001b[0m\u001b[1;33m,\u001b[0m\u001b[0mimg2\u001b[0m\u001b[1;33m,\u001b[0m\u001b[0mimg3\u001b[0m\u001b[1;33m,\u001b[0m\u001b[0mimg4\u001b[0m\u001b[1;33m,\u001b[0m\u001b[0mimg5\u001b[0m\u001b[1;33m,\u001b[0m\u001b[0mimg6\u001b[0m\u001b[1;33m)\u001b[0m\u001b[1;33m)\u001b[0m\u001b[1;33m\u001b[0m\u001b[1;33m\u001b[0m\u001b[0m\n\u001b[0m\u001b[0;32m      2\u001b[0m \u001b[0mI\u001b[0m\u001b[1;33m.\u001b[0m\u001b[0mshape\u001b[0m\u001b[1;33m\u001b[0m\u001b[1;33m\u001b[0m\u001b[0m\n",
      "\u001b[1;32m<__array_function__ internals>\u001b[0m in \u001b[0;36mvstack\u001b[1;34m(*args, **kwargs)\u001b[0m\n",
      "\u001b[1;32m~\\anaconda3\\lib\\site-packages\\numpy\\core\\shape_base.py\u001b[0m in \u001b[0;36mvstack\u001b[1;34m(tup)\u001b[0m\n\u001b[0;32m    281\u001b[0m     \u001b[1;32mif\u001b[0m \u001b[1;32mnot\u001b[0m \u001b[0misinstance\u001b[0m\u001b[1;33m(\u001b[0m\u001b[0marrs\u001b[0m\u001b[1;33m,\u001b[0m \u001b[0mlist\u001b[0m\u001b[1;33m)\u001b[0m\u001b[1;33m:\u001b[0m\u001b[1;33m\u001b[0m\u001b[1;33m\u001b[0m\u001b[0m\n\u001b[0;32m    282\u001b[0m         \u001b[0marrs\u001b[0m \u001b[1;33m=\u001b[0m \u001b[1;33m[\u001b[0m\u001b[0marrs\u001b[0m\u001b[1;33m]\u001b[0m\u001b[1;33m\u001b[0m\u001b[1;33m\u001b[0m\u001b[0m\n\u001b[1;32m--> 283\u001b[1;33m     \u001b[1;32mreturn\u001b[0m \u001b[0m_nx\u001b[0m\u001b[1;33m.\u001b[0m\u001b[0mconcatenate\u001b[0m\u001b[1;33m(\u001b[0m\u001b[0marrs\u001b[0m\u001b[1;33m,\u001b[0m \u001b[1;36m0\u001b[0m\u001b[1;33m)\u001b[0m\u001b[1;33m\u001b[0m\u001b[1;33m\u001b[0m\u001b[0m\n\u001b[0m\u001b[0;32m    284\u001b[0m \u001b[1;33m\u001b[0m\u001b[0m\n\u001b[0;32m    285\u001b[0m \u001b[1;33m\u001b[0m\u001b[0m\n",
      "\u001b[1;32m<__array_function__ internals>\u001b[0m in \u001b[0;36mconcatenate\u001b[1;34m(*args, **kwargs)\u001b[0m\n",
      "\u001b[1;31mValueError\u001b[0m: all the input array dimensions for the concatenation axis must match exactly, but along dimension 1, the array at index 0 has size 57600 and the array at index 1 has size 240"
     ]
    }
   ],
   "source": [
    "I = np.vstack((img1,img2,img3,img4,img5,img6))\n",
    "I.shape"
   ]
  },
  {
   "cell_type": "code",
   "execution_count": null,
   "id": "b5e966ae",
   "metadata": {},
   "outputs": [],
   "source": []
  },
  {
   "cell_type": "markdown",
   "id": "5999dda5",
   "metadata": {},
   "source": [
    "# KdN\n",
    "https://stackoverflow.com/questions/49357417/why-is-numpy-linalg-pinv-preferred-over-numpy-linalg-inv-for-creating-invers"
   ]
  },
  {
   "cell_type": "code",
   "execution_count": 7,
   "id": "6b23d596",
   "metadata": {},
   "outputs": [
    {
     "data": {
      "text/plain": [
       "(3, 57600)"
      ]
     },
     "execution_count": 7,
     "metadata": {},
     "output_type": "execute_result"
    }
   ],
   "source": [
    "KdN = pinv((L.T@L))@L.T@I\n",
    "KdN.shape"
   ]
  },
  {
   "cell_type": "code",
   "execution_count": 14,
   "id": "f78efcdf",
   "metadata": {},
   "outputs": [],
   "source": [
    "# norm_KdN = norm(KdN)\n",
    "# norm_KdN"
   ]
  },
  {
   "cell_type": "code",
   "execution_count": 13,
   "id": "7b306292",
   "metadata": {},
   "outputs": [],
   "source": [
    "# N = KdN/norm_KdN"
   ]
  },
  {
   "cell_type": "code",
   "execution_count": 10,
   "id": "a7d842c3",
   "metadata": {},
   "outputs": [
    {
     "name": "stdout",
     "output_type": "stream",
     "text": [
      "Jupyter environment detected. Enabling Open3D WebVisualizer.\n",
      "[Open3D INFO] WebRTC GUI backend enabled.\n",
      "[Open3D INFO] WebRTCWindowSystem: HTTP handshake server disabled.\n"
     ]
    }
   ],
   "source": [
    "from HW1 import normal_visualization"
   ]
  },
  {
   "cell_type": "code",
   "execution_count": 11,
   "id": "d2e729dc",
   "metadata": {},
   "outputs": [
    {
     "data": {
      "image/png": "[encoded data removed]",
      "text/plain": [
       "<Figure size 432x288 with 1 Axes>"
      ]
     },
     "metadata": {
      "needs_background": "light"
     },
     "output_type": "display_data"
    }
   ],
   "source": [
    "normal_visualization(KdN)"
   ]
  },
  {
   "cell_type": "markdown",
   "id": "6feaa09a",
   "metadata": {},
   "source": []
  },
  {
   "cell_type": "code",
   "execution_count": 12,
   "id": "85b24632",
   "metadata": {},
   "outputs": [
    {
     "data": {
      "text/plain": [
       "415.69219381653056"
      ]
     },
     "execution_count": 12,
     "metadata": {},
     "output_type": "execute_result"
    }
   ],
   "source": [
    "np.sqrt(518400/3)"
   ]
  },
  {
   "cell_type": "code",
   "execution_count": null,
   "id": "57fc09da",
   "metadata": {},
   "outputs": [],
   "source": []
  }
 ],
 "metadata": {
  "kernelspec": {
   "display_name": "Python 3 (ipykernel)",
   "language": "python",
   "name": "python3"
  },
  "language_info": {
   "codemirror_mode": {
    "name": "ipython",
    "version": 3
   },
   "file_extension": ".py",
   "mimetype": "text/x-python",
   "name": "python",
   "nbconvert_exporter": "python",
   "pygments_lexer": "ipython3",
   "version": "3.9.7"
  }
 },
 "nbformat": 4,
 "nbformat_minor": 5
}
